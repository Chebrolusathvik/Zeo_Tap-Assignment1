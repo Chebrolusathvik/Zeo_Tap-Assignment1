{
 "cells": [
  {
   "cell_type": "markdown",
   "id": "ef15a93a-2826-4a4f-9ec5-488b06724ffb",
   "metadata": {},
   "source": [
    "# Import necessary libraries for Lookalike Model"
   ]
  },
  {
   "cell_type": "code",
   "execution_count": 1,
   "id": "6a9ea8bb-c89d-4821-b4b5-a97ca6f2c4ca",
   "metadata": {},
   "outputs": [],
   "source": [
    "import pandas as pd\n",
    "import numpy as np\n",
    "import matplotlib.pyplot as plt\n",
    "import seaborn as sns\n",
    "from sklearn.metrics.pairwise import cosine_similarity\n",
    "from sklearn.preprocessing import StandardScaler"
   ]
  },
  {
   "cell_type": "markdown",
   "id": "2ea44ba2-6f29-4c33-bee2-76ded03c814a",
   "metadata": {},
   "source": [
    "# Load datasets\n",
    "\n"
   ]
  },
  {
   "cell_type": "code",
   "execution_count": 2,
   "id": "df8e8159-609e-4230-bb33-33851d59ea55",
   "metadata": {},
   "outputs": [],
   "source": [
    "customers = pd.read_csv(r\"C:\\Users\\SATHWIK\\Downloads\\Customers.csv\")\n",
    "transactions = pd.read_csv(r\"C:\\Users\\SATHWIK\\Downloads\\Transactions.csv\")"
   ]
  },
  {
   "cell_type": "markdown",
   "id": "a807cb1a-31f6-4968-b43a-697746c09b84",
   "metadata": {},
   "source": [
    "### Merge transactions with customers\n"
   ]
  },
  {
   "cell_type": "code",
   "execution_count": 3,
   "id": "9c3b3fe2-58c2-4e6a-9840-ab9a55894700",
   "metadata": {},
   "outputs": [],
   "source": [
    "merged_data = pd.merge(transactions, customers, on='CustomerID')"
   ]
  },
  {
   "cell_type": "markdown",
   "id": "c3063638-fca6-4536-aea2-8b2ad0488623",
   "metadata": {},
   "source": [
    "### Create a customer-product interaction matrix\n"
   ]
  },
  {
   "cell_type": "code",
   "execution_count": 4,
   "id": "7c5951bc-6296-405b-864b-31f43e85ab07",
   "metadata": {},
   "outputs": [],
   "source": [
    "customer_product_matrix = merged_data.pivot_table(\n",
    "    index='CustomerID',\n",
    "    columns='ProductID',\n",
    "    values='Quantity',\n",
    "    fill_value=0\n",
    ")"
   ]
  },
  {
   "cell_type": "markdown",
   "id": "a8cea901-0c9d-4afc-8d43-5f786cf4f158",
   "metadata": {},
   "source": [
    "# Calculate Similarity"
   ]
  },
  {
   "cell_type": "code",
   "execution_count": 5,
   "id": "2bb810fa-44dd-4a73-ae96-3015d8dcc75c",
   "metadata": {},
   "outputs": [],
   "source": [
    "similarity_matrix = cosine_similarity(customer_product_matrix)\n",
    "similarity_df = pd.DataFrame(similarity_matrix, index=customer_product_matrix.index, columns=customer_product_matrix.index)\n"
   ]
  },
  {
   "cell_type": "markdown",
   "id": "c6ccaf77-8723-4066-be1e-1d4c73863304",
   "metadata": {},
   "source": [
    "### Function to get the top 3 similar customers"
   ]
  },
  {
   "cell_type": "code",
   "execution_count": 6,
   "id": "11a736d7-3076-40cb-9582-3e78a7ab5a4f",
   "metadata": {},
   "outputs": [],
   "source": [
    "def get_top_3_similar(customers_list, similarity_df):\n",
    "    lookalike_map = {}\n",
    "    for customer_id in customers_list:\n",
    "        similar_customers = similarity_df.loc[customer_id].sort_values(ascending=False).iloc[1:4]\n",
    "        lookalike_map[customer_id] = [(similar_cust, score) for similar_cust, score in similar_customers.items()]\n",
    "    return lookalike_map"
   ]
  },
  {
   "cell_type": "markdown",
   "id": "d0dfd4da-b7b0-42ff-b502-e1e0a34f0861",
   "metadata": {},
   "source": [
    "### Get top 3 similar customers for the first 20 customers\n"
   ]
  },
  {
   "cell_type": "code",
   "execution_count": 7,
   "id": "3f67d883-edab-4ace-b0e9-f7d3025e12b7",
   "metadata": {},
   "outputs": [],
   "source": [
    "customer_list = customers['CustomerID'][:20]\n",
    "top_3_lookalikes = get_top_3_similar(customer_list,similarity_df)"
   ]
  },
  {
   "cell_type": "markdown",
   "id": "412e879e-8e1a-42af-8a11-9c136a2aaac1",
   "metadata": {},
   "source": [
    "### Convert the lookalike map to a DataFrame\n"
   ]
  },
  {
   "cell_type": "code",
   "execution_count": 8,
   "id": "ee17e979-8a43-424a-b2c9-7d9c6d1d79fe",
   "metadata": {},
   "outputs": [],
   "source": [
    "lookalike_list = []\n",
    "for cust_id, similar_customers in top_3_lookalikes.items():\n",
    "    lookalike_list.append({\n",
    "        'CustomerID': cust_id,\n",
    "        'Lookalikes': [{'CustomerID': similar_cust, 'Score': score} for similar_cust, score in similar_customers]\n",
    "    })\n"
   ]
  },
  {
   "cell_type": "markdown",
   "id": "587485f7-219f-4132-9e96-f4ad41955055",
   "metadata": {},
   "source": [
    "### Save as CSV\n"
   ]
  },
  {
   "cell_type": "code",
   "execution_count": 9,
   "id": "af8a3bb9-e4c5-4d11-bfec-468c8c4da2ac",
   "metadata": {},
   "outputs": [],
   "source": [
    "lookalike_df = pd.DataFrame(lookalike_list)\n",
    "lookalike_df.to_csv('Sathvik_Chebrolu_Lookalike.csv',index=False)"
   ]
  },
  {
   "cell_type": "code",
   "execution_count": null,
   "id": "57636895-c2fe-47b2-a055-feed2becc36d",
   "metadata": {},
   "outputs": [],
   "source": []
  }
 ],
 "metadata": {
  "kernelspec": {
   "display_name": "Python 3 (ipykernel)",
   "language": "python",
   "name": "python3"
  },
  "language_info": {
   "codemirror_mode": {
    "name": "ipython",
    "version": 3
   },
   "file_extension": ".py",
   "mimetype": "text/x-python",
   "name": "python",
   "nbconvert_exporter": "python",
   "pygments_lexer": "ipython3",
   "version": "3.12.3"
  }
 },
 "nbformat": 4,
 "nbformat_minor": 5
}
